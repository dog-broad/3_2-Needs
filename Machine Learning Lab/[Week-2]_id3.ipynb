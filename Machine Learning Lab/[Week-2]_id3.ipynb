{
  "cells": [
    {
      "cell_type": "code",
      "execution_count": 1,
      "metadata": {},
      "outputs": [],
      "source": [
        "# !pip install pandas"
      ]
    },
    {
      "cell_type": "code",
      "execution_count": 1,
      "metadata": {
        "colab": {
          "base_uri": "https://localhost:8080/"
        },
        "id": "tHXhU0BcEDT2",
        "outputId": "bcc956f7-f20d-4ec1-ed07-9e4d6b8548e7"
      },
      "outputs": [
        {
          "name": "stdout",
          "output_type": "stream",
          "text": [
            "     Outlook Temperature Humidity    Wind Play Tennis\n",
            "0      Sunny         Hot     High    Weak          No\n",
            "1      Sunny         Hot     High  Strong          No\n",
            "2   Overcast         Hot     High    Weak         Yes\n",
            "3       Rain        Mild     High    Weak         Yes\n",
            "4       Rain        Cool   Normal    Weak         Yes\n",
            "5       Rain        Cool   Normal  Strong          No\n",
            "6   Overcast        Cool   Normal  Strong         Yes\n",
            "7      Sunny        Mild     High    Weak          No\n",
            "8      Sunny        Cool   Normal    Weak         Yes\n",
            "9       Rain        Mild   Normal    Weak         Yes\n",
            "10     Sunny        Mild   Normal  Strong         Yes\n",
            "11  Overcast        Mild     High  Strong         Yes\n",
            "12  Overcast         Hot   Normal    Weak         Yes\n",
            "13      Rain        Mild     High  Strong          No\n"
          ]
        }
      ],
      "source": [
        "import pandas as pd\n",
        "df = pd.read_csv(\"PlayTennis.csv\")\n",
        "print(df)"
      ]
    },
    {
      "cell_type": "code",
      "execution_count": 2,
      "metadata": {
        "id": "vjvSMzNVEM_2"
      },
      "outputs": [],
      "source": [
        "# Calculate Entropy\n",
        "def entropy(probs):\n",
        "    import math\n",
        "    return sum(-prob*math.log(prob, 2) for prob in probs)"
      ]
    },
    {
      "cell_type": "code",
      "execution_count": 3,
      "metadata": {
        "id": "uyyIyDTuEaSX"
      },
      "outputs": [],
      "source": [
        "# Calaculating the Probability of Positive and negative examples\n",
        "def entropy_of_list(a_list):\n",
        "    from collections import Counter\n",
        "    cnt = Counter(x for x in a_list)\n",
        "    num_instances = len(a_list)\n",
        "    probs=[x/num_instances for x in cnt.values()]\n",
        "    return entropy(probs)"
      ]
    },
    {
      "cell_type": "code",
      "execution_count": 4,
      "metadata": {
        "colab": {
          "base_uri": "https://localhost:8080/"
        },
        "id": "u0rJLR-oF0Pw",
        "outputId": "74e83a30-d8a1-439e-9140-3f0f34f099e4"
      },
      "outputs": [
        {
          "name": "stdout",
          "output_type": "stream",
          "text": [
            "0.9402859586706309\n"
          ]
        }
      ],
      "source": [
        "total_entropy = entropy_of_list(df['Play Tennis'])\n",
        "print(total_entropy)"
      ]
    },
    {
      "cell_type": "code",
      "execution_count": 10,
      "metadata": {
        "id": "w8eQUNUNGSXf"
      },
      "outputs": [],
      "source": [
        "# Calculating Information Gain Function :\n",
        "def information_gain(df, split_attribute_name, target_attribute_name, trace = 0):\n",
        "  df_split = df.groupby(split_attribute_name)\n",
        "  for name, group in df_split:\n",
        "    nobs = len(df.index)*1.0\n",
        "    df_agg_ent = df_split.agg({target_attribute_name : [entropy_of_list, lambda x : len(x)/nobs]})[target_attribute_name]\n",
        "    avg_info = sum(df_agg_ent['entropy_of_list'] * df_agg_ent['<lambda_0>'])\n",
        "    old_entropy = entropy_of_list(df[target_attribute_name])\n",
        "    return old_entropy-avg_info"
      ]
    },
    {
      "cell_type": "code",
      "execution_count": 11,
      "metadata": {
        "id": "xSRvAKkaLU6w"
      },
      "outputs": [],
      "source": [
        "def id3DT(df, target_attribute_name, attribute_names, default_class=None):\n",
        "  from collections import Counter\n",
        "  cnt = Counter(x for x in df[target_attribute_name])\n",
        "  if len(cnt)==1:\n",
        "    return next(iter(cnt))\n",
        "  elif df.empty or (not attribute_names):\n",
        "    return default_class\n",
        "  else:\n",
        "    default_class = max(cnt.keys())\n",
        "    #print(\"attributes_names:\",attribute_names)\n",
        "    gainz = [information_gain(df,attr, target_attribute_name) for attr in attribute_names]\n",
        "    index_of_max = gainz.index(max(gainz))\n",
        "    best_attr = attribute_names[index_of_max]\n",
        "    tree = {best_attr:{}}\n",
        "    remaining_attributes_names = [i for i in attribute_names if i != best_attr]\n",
        "    for attr_val, data_subset in df.groupby(best_attr):\n",
        "      subtree = id3DT(data_subset,target_attribute_name,remaining_attributes_names,default_class)\n",
        "      tree[best_attr][attr_val]=subtree\n",
        "  return tree\n",
        "\n",
        "attribute_names = list(df.columns)\n",
        "attribute_names.remove('Play Tennis')"
      ]
    },
    {
      "cell_type": "code",
      "execution_count": 12,
      "metadata": {
        "colab": {
          "base_uri": "https://localhost:8080/"
        },
        "id": "a8RQi1DRLrVa",
        "outputId": "78a776a3-0b2f-458b-fbf1-a4eb416fa11e"
      },
      "outputs": [
        {
          "name": "stdout",
          "output_type": "stream",
          "text": [
            "The Resultant Decision Tree is \n",
            "{'Outlook': {'Overcast': 'Yes',\n",
            "             'Rain': {'Wind': {'Strong': 'No', 'Weak': 'Yes'}},\n",
            "             'Sunny': {'Humidity': {'High': 'No', 'Normal': 'Yes'}}}}\n",
            "Best Attribute: \n",
            " Outlook\n",
            "Tree Keys\n",
            "  dict_keys(['Overcast', 'Rain', 'Sunny'])\n"
          ]
        }
      ],
      "source": [
        "from pprint import pprint\n",
        "tree = id3DT(df,'Play Tennis',attribute_names)\n",
        "print(\"The Resultant Decision Tree is \")\n",
        "pprint(tree)\n",
        "attribute = next(iter(tree))\n",
        "print(\"Best Attribute: \\n\", attribute)\n",
        "print(\"Tree Keys\\n \", tree[attribute].keys())"
      ]
    },
    {
      "cell_type": "code",
      "execution_count": 13,
      "metadata": {
        "colab": {
          "base_uri": "https://localhost:8080/"
        },
        "id": "pLJl7uS6Lvva",
        "outputId": "e23a30a6-7755-4878-c1b2-f2355762f0a1"
      },
      "outputs": [
        {
          "name": "stdout",
          "output_type": "stream",
          "text": [
            "Key: dict_keys(['Outlook'])\n",
            "Attribute Outlook\n",
            "Key: dict_keys(['Outlook'])\n",
            "Attribute Outlook\n",
            "Instance Attribute: Sunny TreeKeys: dict_keys(['Overcast', 'Rain', 'Sunny'])\n",
            "Key: dict_keys(['Humidity'])\n",
            "Attribute Humidity\n",
            "Instance Attribute: High TreeKeys: dict_keys(['High', 'Normal'])\n",
            "  Outlook Temperature Humidity   Windy Predicted\n",
            "0   Rainy        Mild   Normal    Weak        No\n",
            "1   Sunny         Hot     High  Strong        No\n"
          ]
        }
      ],
      "source": [
        "# Classifying new sample\n",
        "\n",
        "def classify(instance, tree, default=None):\n",
        "  attribute=next(iter(tree))\n",
        "  print(\"Key:\",tree.keys())\n",
        "  print(\"Attribute\",attribute)\n",
        "  if instance[attribute] in tree[attribute].keys():\n",
        "    result=tree[attribute][instance[attribute]]\n",
        "    print(\"Instance Attribute:\",instance[attribute], \"TreeKeys:\",tree[attribute].keys())\n",
        "    if isinstance(result,dict):\n",
        "      return classify(instance,result)\n",
        "    else:\n",
        "      return result\n",
        "  else:\n",
        "    return default\n",
        "\n",
        "tree1={'Outlook':['Rainy','Sunny'],'Temperature':['Mild','Hot'],'Humidity':['Normal','High'],'Windy':['Weak','Strong']}\n",
        "df2=pd.DataFrame(tree1)\n",
        "df2['Predicted']=df2.apply(classify,axis=1, args=(tree,'No'))\n",
        "print(df2)\n"
      ]
    }
  ],
  "metadata": {
    "colab": {
      "provenance": []
    },
    "kernelspec": {
      "display_name": "Python 3",
      "name": "python3"
    },
    "language_info": {
      "codemirror_mode": {
        "name": "ipython",
        "version": 3
      },
      "file_extension": ".py",
      "mimetype": "text/x-python",
      "name": "python",
      "nbconvert_exporter": "python",
      "pygments_lexer": "ipython3",
      "version": "3.12.2"
    }
  },
  "nbformat": 4,
  "nbformat_minor": 0
}
