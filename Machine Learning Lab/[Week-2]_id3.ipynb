{
  "cells": [
    {
      "cell_type": "markdown",
      "metadata": {},
      "source": [
        "Use the following code to install the pandas library if it is not already installed."
      ]
    },
    {
      "cell_type": "code",
      "execution_count": 42,
      "metadata": {},
      "outputs": [],
      "source": [
        "# !pip install pandas"
      ]
    },
    {
      "cell_type": "markdown",
      "metadata": {},
      "source": [
        "### We aim to build a decision tree classifier that can predict whether to play tennis based on various weather conditions."
      ]
    },
    {
      "cell_type": "markdown",
      "metadata": {},
      "source": [
        "**Reading Data**:\n",
        "- The script reads the data from a CSV file named \"PlayTennis.csv\" using the Pandas library. This file contains information about various weather conditions and whether tennis was played. Hence, we use the `pd.read_csv()` function to read the data into a pandas DataFrame."
      ]
    },
    {
      "cell_type": "code",
      "execution_count": 43,
      "metadata": {
        "colab": {
          "base_uri": "https://localhost:8080/"
        },
        "id": "tHXhU0BcEDT2",
        "outputId": "bcc956f7-f20d-4ec1-ed07-9e4d6b8548e7"
      },
      "outputs": [
        {
          "name": "stdout",
          "output_type": "stream",
          "text": [
            "     Outlook Temperature Humidity    Wind Play Tennis\n",
            "0      Sunny         Hot     High    Weak          No\n",
            "1      Sunny         Hot     High  Strong          No\n",
            "2   Overcast         Hot     High    Weak         Yes\n",
            "3       Rain        Mild     High    Weak         Yes\n",
            "4       Rain        Cool   Normal    Weak         Yes\n",
            "5       Rain        Cool   Normal  Strong          No\n",
            "6   Overcast        Cool   Normal  Strong         Yes\n",
            "7      Sunny        Mild     High    Weak          No\n",
            "8      Sunny        Cool   Normal    Weak         Yes\n",
            "9       Rain        Mild   Normal    Weak         Yes\n",
            "10     Sunny        Mild   Normal  Strong         Yes\n",
            "11  Overcast        Mild     High  Strong         Yes\n",
            "12  Overcast         Hot   Normal    Weak         Yes\n",
            "13      Rain        Mild     High  Strong          No\n"
          ]
        }
      ],
      "source": [
        "import pandas as pd\n",
        "df = pd.read_csv(\"PlayTennis.csv\")\n",
        "print(df)"
      ]
    },
    {
      "cell_type": "markdown",
      "metadata": {},
      "source": [
        "**Calculating Entropy**:\n",
        "- Entropy is a measure of impurity or uncertainty in the dataset. The script defines functions to calculate entropy and entropy of a list.\n",
        "- Mathematically the formula for entropy is as follows:\n",
        "- $H = -\\sum_{i=1}^n p(X_i) \\log_2 p(X_i)$"
      ]
    },
    {
      "cell_type": "code",
      "execution_count": 44,
      "metadata": {
        "id": "vjvSMzNVEM_2"
      },
      "outputs": [],
      "source": [
        "# Calculate Entropy\n",
        "def entropy(probs):\n",
        "    import math\n",
        "    return sum(-prob*math.log(prob, 2) for prob in probs)"
      ]
    },
    {
      "cell_type": "markdown",
      "metadata": {},
      "source": [
        "- After defining the entropy function, we can calculate the entropy of the dataset.\n",
        "- For that, we use the `entropy_of_list` function. This function takes a list as input and returns the entropy of that list.\n",
        "- It first calculates how many times each element of the list occurs in the dataset. Then, it calculates the probability of each element occurring in the dataset by dividing the number of times it occurs by the total number of elements in the dataset.\n",
        "- It then uses the entropy function to calculate the entropy of the list."
      ]
    },
    {
      "cell_type": "code",
      "execution_count": 45,
      "metadata": {
        "id": "uyyIyDTuEaSX"
      },
      "outputs": [],
      "source": [
        "# Calaculating the Probability of Positive and negative examples\n",
        "def entropy_of_list(a_list):\n",
        "    from collections import Counter\n",
        "    cnt = Counter(x for x in a_list)\n",
        "    num_instances = len(a_list)\n",
        "    probs=[x/num_instances for x in cnt.values()] # Create a list of probabilities from the dictionary\n",
        "    return entropy(probs)"
      ]
    },
    {
      "cell_type": "markdown",
      "metadata": {},
      "source": [
        "- We will pass the PlayTennis dataset to the `entropy_of_list` function. This will give us the entropy of the dataset."
      ]
    },
    {
      "cell_type": "code",
      "execution_count": 46,
      "metadata": {
        "colab": {
          "base_uri": "https://localhost:8080/"
        },
        "id": "u0rJLR-oF0Pw",
        "outputId": "74e83a30-d8a1-439e-9140-3f0f34f099e4"
      },
      "outputs": [
        {
          "name": "stdout",
          "output_type": "stream",
          "text": [
            "0.9402859586706309\n"
          ]
        }
      ],
      "source": [
        "total_entropy = entropy_of_list(df['Play Tennis'])\n",
        "print(total_entropy)"
      ]
    },
    {
      "cell_type": "markdown",
      "metadata": {},
      "source": [
        "**Calculating Information Gain**:\n",
        "- Information gain measures the effectiveness of splitting a dataset based on a particular attribute. The script defines a function to calculate information gain for each attribute."
      ]
    },
    {
      "cell_type": "code",
      "execution_count": 47,
      "metadata": {
        "id": "w8eQUNUNGSXf"
      },
      "outputs": [],
      "source": [
        "# Calculating Information Gain Function:\n",
        "def information_gain(df, split_attribute_name, target_attribute_name, trace=0):\n",
        "    # Split the DataFrame based on the split attribute\n",
        "    df_split = df.groupby(split_attribute_name)\n",
        "\n",
        "    # Meaning we are grouping all values in data into groups based on what attribute they belong to:\n",
        "    # Sunny, Rainy, Overcast ==> Outlook\n",
        "    # Hot, Mild, Cool ==> Temperature\n",
        "    # High, Normal ==> Humidity\n",
        "    # Weak, Strong ==> Wind\n",
        "    \n",
        "    # Iterate over each group created by the split\n",
        "    for name, group in df_split:\n",
        "        # Calculate the total number of observations\n",
        "        nobs = len(df.index) * 1.0\n",
        "\n",
        "        # df_agg_ent is short for df aggregated entropy\n",
        "        \n",
        "        # Calculate entropy and the proportion of each group, agg() is a method in pandas \n",
        "        # which allows you to perform aggregate functions\n",
        "        # Meaning you get to apply functions to each group\n",
        "        df_agg_ent = df_split.agg({target_attribute_name: [entropy_of_list, lambda x: len(x) / nobs]})[target_attribute_name]\n",
        "\n",
        "        \"\"\"\n",
        "                  entropy_of_list  <lambda_0>\n",
        "        Outlook                              \n",
        "        Overcast         0.000000    0.285714\n",
        "        Rain             0.970951    0.357143\n",
        "        Sunny            0.970951    0.357143\n",
        "                    entropy_of_list  <lambda_0>\n",
        "        Temperature                             \n",
        "        Cool                0.811278    0.285714\n",
        "        Hot                 1.000000    0.285714\n",
        "        Mild                0.918296    0.428571\n",
        "                entropy_of_list  <lambda_0>\n",
        "        Humidity                             \n",
        "        High             0.985228         0.5\n",
        "        Normal           0.591673         0.5\n",
        "                entropy_of_list  <lambda_0>\n",
        "        Wind                               \n",
        "        Strong         1.000000    0.428571\n",
        "        Weak           0.811278    0.571429\n",
        "                    entropy_of_list  <lambda_0>\n",
        "        Temperature                             \n",
        "        Cool                1.000000         0.4\n",
        "        Mild                0.918296         0.6\n",
        "                entropy_of_list  <lambda_0>\n",
        "        Humidity                             \n",
        "        High             1.000000         0.4\n",
        "        \"\"\"\n",
        "\n",
        "        # Calculate the average information\n",
        "        avg_info = sum(df_agg_ent['entropy_of_list'] * df_agg_ent['<lambda_0>'])\n",
        "        \n",
        "        # Calculate the entropy of the entire dataset\n",
        "        old_entropy = entropy_of_list(df[target_attribute_name])\n",
        "        \n",
        "        # Return the information gain\n",
        "        return old_entropy - avg_info\n",
        "    \n",
        "# I'll continue this later..."
      ]
    },
    {
      "cell_type": "code",
      "execution_count": 48,
      "metadata": {
        "id": "xSRvAKkaLU6w"
      },
      "outputs": [],
      "source": [
        "def id3DT(df, target_attribute_name, attribute_names, default_class=None):\n",
        "  from collections import Counter\n",
        "  cnt = Counter(x for x in df[target_attribute_name])\n",
        "  if len(cnt)==1:\n",
        "    return next(iter(cnt))\n",
        "  elif df.empty or (not attribute_names):\n",
        "    return default_class\n",
        "  else:\n",
        "    default_class = max(cnt.keys())\n",
        "    #print(\"attributes_names:\",attribute_names)\n",
        "    gainz = [information_gain(df,attr, target_attribute_name) for attr in attribute_names]\n",
        "    index_of_max = gainz.index(max(gainz))\n",
        "    best_attr = attribute_names[index_of_max]\n",
        "    tree = {best_attr:{}}\n",
        "    remaining_attributes_names = [i for i in attribute_names if i != best_attr]\n",
        "    for attr_val, data_subset in df.groupby(best_attr):\n",
        "      subtree = id3DT(data_subset,target_attribute_name,remaining_attributes_names,default_class)\n",
        "      tree[best_attr][attr_val]=subtree\n",
        "  return tree\n",
        "\n",
        "attribute_names = list(df.columns)\n",
        "attribute_names.remove('Play Tennis')"
      ]
    },
    {
      "cell_type": "code",
      "execution_count": 49,
      "metadata": {
        "colab": {
          "base_uri": "https://localhost:8080/"
        },
        "id": "a8RQi1DRLrVa",
        "outputId": "78a776a3-0b2f-458b-fbf1-a4eb416fa11e"
      },
      "outputs": [
        {
          "name": "stdout",
          "output_type": "stream",
          "text": [
            "          entropy_of_list  <lambda_0>\n",
            "Outlook                              \n",
            "Overcast         0.000000    0.285714\n",
            "Rain             0.970951    0.357143\n",
            "Sunny            0.970951    0.357143\n",
            "             entropy_of_list  <lambda_0>\n",
            "Temperature                             \n",
            "Cool                0.811278    0.285714\n",
            "Hot                 1.000000    0.285714\n",
            "Mild                0.918296    0.428571\n",
            "          entropy_of_list  <lambda_0>\n",
            "Humidity                             \n",
            "High             0.985228         0.5\n",
            "Normal           0.591673         0.5\n",
            "        entropy_of_list  <lambda_0>\n",
            "Wind                               \n",
            "Strong         1.000000    0.428571\n",
            "Weak           0.811278    0.571429\n",
            "             entropy_of_list  <lambda_0>\n",
            "Temperature                             \n",
            "Cool                1.000000         0.4\n",
            "Mild                0.918296         0.6\n",
            "          entropy_of_list  <lambda_0>\n",
            "Humidity                             \n",
            "High             1.000000         0.4\n",
            "Normal           0.918296         0.6\n",
            "        entropy_of_list  <lambda_0>\n",
            "Wind                               \n",
            "Strong              0.0         0.4\n",
            "Weak                0.0         0.6\n",
            "             entropy_of_list  <lambda_0>\n",
            "Temperature                             \n",
            "Cool                     0.0         0.2\n",
            "Hot                      0.0         0.4\n",
            "Mild                     1.0         0.4\n",
            "          entropy_of_list  <lambda_0>\n",
            "Humidity                             \n",
            "High                  0.0         0.6\n",
            "Normal                0.0         0.4\n",
            "        entropy_of_list  <lambda_0>\n",
            "Wind                               \n",
            "Strong         1.000000         0.4\n",
            "Weak           0.918296         0.6\n",
            "The Resultant Decision Tree is \n",
            "{'Outlook': {'Overcast': 'Yes',\n",
            "             'Rain': {'Wind': {'Strong': 'No', 'Weak': 'Yes'}},\n",
            "             'Sunny': {'Humidity': {'High': 'No', 'Normal': 'Yes'}}}}\n",
            "Best Attribute: \n",
            " Outlook\n",
            "Tree Keys\n",
            "  dict_keys(['Overcast', 'Rain', 'Sunny'])\n"
          ]
        }
      ],
      "source": [
        "from pprint import pprint\n",
        "tree = id3DT(df,'Play Tennis',attribute_names)\n",
        "print(\"The Resultant Decision Tree is \")\n",
        "pprint(tree)\n",
        "attribute = next(iter(tree))\n",
        "print(\"Best Attribute: \\n\", attribute)\n",
        "print(\"Tree Keys\\n \", tree[attribute].keys())"
      ]
    },
    {
      "cell_type": "code",
      "execution_count": 50,
      "metadata": {
        "colab": {
          "base_uri": "https://localhost:8080/"
        },
        "id": "pLJl7uS6Lvva",
        "outputId": "e23a30a6-7755-4878-c1b2-f2355762f0a1"
      },
      "outputs": [
        {
          "name": "stdout",
          "output_type": "stream",
          "text": [
            "Key: dict_keys(['Outlook'])\n",
            "Attribute Outlook\n",
            "Key: dict_keys(['Outlook'])\n",
            "Attribute Outlook\n",
            "Instance Attribute: Sunny TreeKeys: dict_keys(['Overcast', 'Rain', 'Sunny'])\n",
            "Key: dict_keys(['Humidity'])\n",
            "Attribute Humidity\n",
            "Instance Attribute: High TreeKeys: dict_keys(['High', 'Normal'])\n",
            "  Outlook Temperature Humidity   Windy Predicted\n",
            "0   Rainy        Mild   Normal    Weak        No\n",
            "1   Sunny         Hot     High  Strong        No\n"
          ]
        }
      ],
      "source": [
        "# Classifying new sample\n",
        "\n",
        "def classify(instance, tree, default=None):\n",
        "  attribute=next(iter(tree))\n",
        "  print(\"Key:\",tree.keys())\n",
        "  print(\"Attribute\",attribute)\n",
        "  if instance[attribute] in tree[attribute].keys():\n",
        "    result=tree[attribute][instance[attribute]]\n",
        "    print(\"Instance Attribute:\",instance[attribute], \"TreeKeys:\",tree[attribute].keys())\n",
        "    if isinstance(result,dict):\n",
        "      return classify(instance,result)\n",
        "    else:\n",
        "      return result\n",
        "  else:\n",
        "    return default\n",
        "\n",
        "tree1={'Outlook':['Rainy','Sunny'],'Temperature':['Mild','Hot'],'Humidity':['Normal','High'],'Windy':['Weak','Strong']}\n",
        "df2=pd.DataFrame(tree1)\n",
        "df2['Predicted']=df2.apply(classify,axis=1, args=(tree,'No'))\n",
        "print(df2)\n"
      ]
    }
  ],
  "metadata": {
    "colab": {
      "provenance": []
    },
    "kernelspec": {
      "display_name": "Python 3",
      "name": "python3"
    },
    "language_info": {
      "codemirror_mode": {
        "name": "ipython",
        "version": 3
      },
      "file_extension": ".py",
      "mimetype": "text/x-python",
      "name": "python",
      "nbconvert_exporter": "python",
      "pygments_lexer": "ipython3",
      "version": "3.12.2"
    }
  },
  "nbformat": 4,
  "nbformat_minor": 0
}
