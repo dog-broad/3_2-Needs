{
  "nbformat": 4,
  "nbformat_minor": 0,
  "metadata": {
    "colab": {
      "provenance": []
    },
    "kernelspec": {
      "name": "python3",
      "display_name": "Python 3"
    },
    "language_info": {
      "name": "python"
    }
  },
  "cells": [
    {
      "cell_type": "code",
      "execution_count": 1,
      "metadata": {
        "colab": {
          "base_uri": "https://localhost:8080/"
        },
        "id": "88j5UK4HAdCb",
        "outputId": "ec5d163e-5171-4fc2-b90f-ab3a785e6603"
      },
      "outputs": [
        {
          "output_type": "stream",
          "name": "stdout",
          "text": [
            "\n",
            " The Given Training Data Set \n",
            "\n",
            "['Sunny', 'Warm', 'High', 'Strong', 'Cool', 'Change', '1']\n",
            "\n",
            " The initial value of hypothesis: \n",
            "['0', '0', '0', '0', '0', '0']\n",
            "\n",
            " Find S : Finding a Maximally Specific Hypothesis \n",
            "\n",
            "For Training instance No : 3 the hypothesis is  ['Sunny', 'Warm', '?', 'Strong', '?', '?']\n",
            "\n",
            " The Maximally Specific Hypothesis for a given Training Examples : \n",
            "\n",
            "['Sunny', 'Warm', '?', 'Strong', '?', '?']\n"
          ]
        }
      ],
      "source": [
        "import csv\n",
        "num_attributes = 6\n",
        "a = []\n",
        "print(\"\\n The Given Training Data Set \\n\")\n",
        "with open('ENJOYSPORT.csv', 'r') as csvfile:\n",
        "  reader = csv.reader(csvfile)\n",
        "  for row in reader:\n",
        "    a.append(row)\n",
        "print(row)\n",
        "print(\"\\n The initial value of hypothesis: \")\n",
        "hypothesis = ['0'] * num_attributes\n",
        "print(hypothesis)\n",
        "for j in range(num_attributes):\n",
        "  hypothesis[j] = a[0][j]\n",
        "print(\"\\n Find S : Finding a Maximally Specific Hypothesis \\n\")\n",
        "for i in range(len(a)):\n",
        "  if a[i][num_attributes] == '1':\n",
        "    for j in range(num_attributes):\n",
        "      if a[i][j] != hypothesis[j]:\n",
        "        hypothesis[j] = '?'\n",
        "      else:\n",
        "        hypothesis[j] = a[i][j]\n",
        "print(\"For Training instance No : {0} the hypothesis is \".format(i), hypothesis)\n",
        "print(\"\\n The Maximally Specific Hypothesis for a given Training Examples : \\n\")\n",
        "print(hypothesis)"
      ]
    }
  ]
}