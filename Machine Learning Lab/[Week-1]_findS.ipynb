{
  "cells": [
    {
      "cell_type": "code",
      "execution_count": 1,
      "metadata": {
        "colab": {
          "base_uri": "https://localhost:8080/"
        },
        "id": "88j5UK4HAdCb",
        "outputId": "ec5d163e-5171-4fc2-b90f-ab3a785e6603"
      },
      "outputs": [
        {
          "name": "stdout",
          "output_type": "stream",
          "text": [
            "\n",
            " The Given Training Data Set \n",
            "\n",
            "['Sunny', 'Warm', 'High', 'Strong', 'Cool', 'Change', '1']\n",
            "\n",
            " The initial value of hypothesis: \n",
            "['0', '0', '0', '0', '0', '0']\n",
            "\n",
            " Find S : Finding a Maximally Specific Hypothesis \n",
            "\n",
            "For Training instance No : 3 the hypothesis is  ['Sunny', 'Warm', '?', 'Strong', '?', '?']\n",
            "\n",
            " The Maximally Specific Hypothesis for a given Training Examples : \n",
            "\n",
            "['Sunny', 'Warm', '?', 'Strong', '?', '?']\n"
          ]
        }
      ],
      "source": [
        "import csv\n",
        "num_attributes = 6\n",
        "a = []\n",
        "print(\"\\n The Given Training Data Set \\n\")\n",
        "with open('ENJOYSPORT.csv', 'r') as csvfile:\n",
        "  reader = csv.reader(csvfile)\n",
        "  for row in reader:\n",
        "    a.append(row)\n",
        "print(row)\n",
        "print(\"\\n The initial value of hypothesis: \")\n",
        "hypothesis = ['0'] * num_attributes\n",
        "print(hypothesis)\n",
        "for j in range(num_attributes):\n",
        "  hypothesis[j] = a[0][j]\n",
        "print(\"\\n Find S : Finding a Maximally Specific Hypothesis \\n\")\n",
        "for i in range(len(a)):\n",
        "  if a[i][num_attributes] == '1':\n",
        "    for j in range(num_attributes):\n",
        "      if a[i][j] != hypothesis[j]:\n",
        "        hypothesis[j] = '?'\n",
        "      else:\n",
        "        hypothesis[j] = a[i][j]\n",
        "print(\"For Training instance No : {0} the hypothesis is \".format(i), hypothesis)\n",
        "print(\"\\n The Maximally Specific Hypothesis for a given Training Examples : \\n\")\n",
        "print(hypothesis)"
      ]
    },
    {
      "cell_type": "markdown",
      "metadata": {},
      "source": [
        "# Explanation:\n",
        "\n",
        "- We start by setting up the necessary tools and defining how many attributes we're considering.\n",
        "```py\n",
        "import csv\n",
        "num_attributes = 6\n",
        "```\n",
        "\n",
        "- We read the data from a file. Each row in this file represents a situation where someone either enjoys the sport or not, and it describes the circumstances around it.\n",
        "```py\n",
        "a = []\n",
        "print(\"\\n The Given Training Data Set \\n\")\n",
        "with open('ENJOYSPORT.csv', 'r') as csvfile:\n",
        "  reader = csv.reader(csvfile)\n",
        "  for row in reader:\n",
        "    a.append(row)\n",
        "```\n",
        "\n",
        "- Initially, we make a very general guess about what conditions lead to enjoying the sport. We start with the assumption that none of the attributes matter ('0' for each).\n",
        "```py\n",
        "print(row)\n",
        "print(\"\\n The initial value of hypothesis: \")\n",
        "hypothesis = ['0'] * num_attributes\n",
        "print(hypothesis)\n",
        "```\n",
        "\n",
        "- We go through each situation in our training data.\n",
        "- If someone enjoyed the sport in that situation, we update our hypothesis to include those specific conditions.\n",
        "- If someone didn't enjoy the sport, we ignore that situation and keep our hypothesis the same.\n",
        "```py\n",
        "# Initializing the hypothesis with the attributes of the first training instance\n",
        "for j in range(num_attributes):\n",
        "    hypothesis[j] = a[0][j]\n",
        "\n",
        "# Printing a header indicating the start of the Find-S process\n",
        "print(\"\\n Find S : Finding a Maximally Specific Hypothesis \\n\")\n",
        "\n",
        "# Iterating through each training instance\n",
        "for i in range(len(a)):\n",
        "    # Checking if the current instance is classified as positive (enjoying the sport)\n",
        "    if a[i][num_attributes] == '1':\n",
        "        # For each attribute, comparing the instance's attribute with the hypothesis\n",
        "        for j in range(num_attributes):\n",
        "            # If the attribute in the instance doesn't match the hypothesis, mark it as '?'\n",
        "            if a[i][j] != hypothesis[j]:\n",
        "                hypothesis[j] = '?'\n",
        "            # If the attribute in the instance matches the hypothesis, keep it as is\n",
        "            else:\n",
        "                hypothesis[j] = a[i][j]\n",
        "\n",
        "# Our final hypothesis represents the most specific conditions that consistently lead to enjoying the sport.\n",
        "# Hence, we print it\n",
        "print(\"For Training instance No : {0} the hypothesis is \".format(i), hypothesis)\n",
        "print(\"\\n The Maximally Specific Hypothesis for a given Training Examples : \\n\")\n",
        "print(hypothesis)\n",
        "```"
      ]
    }
  ],
  "metadata": {
    "colab": {
      "provenance": []
    },
    "kernelspec": {
      "display_name": "Python 3",
      "name": "python3"
    },
    "language_info": {
      "name": "python"
    }
  },
  "nbformat": 4,
  "nbformat_minor": 0
}
